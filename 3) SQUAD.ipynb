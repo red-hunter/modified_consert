{
 "cells": [
  {
   "cell_type": "code",
   "execution_count": 1,
   "id": "0c4183f6",
   "metadata": {},
   "outputs": [],
   "source": [
    "from transformers import BertConfig, BertModel\n",
    "import torch\n",
    "\n",
    "from torch import nn\n",
    "import numpy as np\n",
    "import pandas as pd\n",
    "import pickle, time\n",
    "import re, os, string, typing, gc, json\n",
    "import torch.nn.functional as F\n",
    "import spacy\n",
    "from collections import Counter\n",
    "\n",
    "from tqdm import tqdm\n",
    "from transformers import BertTokenizer\n",
    "\n",
    "from scipy.stats.stats import spearmanr\n",
    "import collections\n",
    "import itertools\n",
    "\n",
    "from nltk.corpus import wordnet,stopwords\n",
    "import random\n",
    "\n",
    "from nltk.tokenize import sent_tokenize\n",
    "\n",
    "import EDA as eda"
   ]
  },
  {
   "cell_type": "code",
   "execution_count": 2,
   "id": "3478f088",
   "metadata": {},
   "outputs": [],
   "source": [
    "tokenizer = BertTokenizer.from_pretrained('bert-base-uncased')\n",
    "\n",
    "# Load Squad Data\n",
    "train_df = pd.read_pickle('NEW_DATA/train.pkl')\n",
    "valid_df = pd.read_pickle('NEW_DATA/valid.pkl')"
   ]
  },
  {
   "cell_type": "code",
   "execution_count": 3,
   "id": "5d08b9ab",
   "metadata": {},
   "outputs": [
    {
     "data": {
      "text/plain": [
       "(87599, 34726)"
      ]
     },
     "execution_count": 3,
     "metadata": {},
     "output_type": "execute_result"
    }
   ],
   "source": [
    "len(train_df),len(valid_df)"
   ]
  },
  {
   "cell_type": "code",
   "execution_count": 4,
   "id": "8fc8ae49",
   "metadata": {},
   "outputs": [
    {
     "data": {
      "text/html": [
       "<div>\n",
       "<style scoped>\n",
       "    .dataframe tbody tr th:only-of-type {\n",
       "        vertical-align: middle;\n",
       "    }\n",
       "\n",
       "    .dataframe tbody tr th {\n",
       "        vertical-align: top;\n",
       "    }\n",
       "\n",
       "    .dataframe thead th {\n",
       "        text-align: right;\n",
       "    }\n",
       "</style>\n",
       "<table border=\"1\" class=\"dataframe\">\n",
       "  <thead>\n",
       "    <tr style=\"text-align: right;\">\n",
       "      <th></th>\n",
       "      <th>id</th>\n",
       "      <th>context</th>\n",
       "      <th>question</th>\n",
       "      <th>label</th>\n",
       "      <th>answer</th>\n",
       "      <th>context_ids</th>\n",
       "      <th>question_ids</th>\n",
       "      <th>label_idx</th>\n",
       "    </tr>\n",
       "  </thead>\n",
       "  <tbody>\n",
       "    <tr>\n",
       "      <th>0</th>\n",
       "      <td>5733be284776f41900661182</td>\n",
       "      <td>architecturally, the school has a catholic cha...</td>\n",
       "      <td>to whom did the virgin mary allegedly appear i...</td>\n",
       "      <td>[515, 541]</td>\n",
       "      <td>saint bernadette soubirous</td>\n",
       "      <td>[101, 6549, 2135, 1010, 1996, 2082, 2038, 1037...</td>\n",
       "      <td>[101, 2000, 3183, 2106, 1996, 6261, 2984, 9382...</td>\n",
       "      <td>[114, 122]</td>\n",
       "    </tr>\n",
       "    <tr>\n",
       "      <th>1</th>\n",
       "      <td>5733be284776f4190066117f</td>\n",
       "      <td>architecturally, the school has a catholic cha...</td>\n",
       "      <td>what is in front of the notre dame main building?</td>\n",
       "      <td>[188, 213]</td>\n",
       "      <td>a copper statue of christ</td>\n",
       "      <td>[101, 6549, 2135, 1010, 1996, 2082, 2038, 1037...</td>\n",
       "      <td>[101, 2054, 2003, 1999, 2392, 1997, 1996, 1028...</td>\n",
       "      <td>[40, 45]</td>\n",
       "    </tr>\n",
       "    <tr>\n",
       "      <th>2</th>\n",
       "      <td>5733be284776f41900661180</td>\n",
       "      <td>architecturally, the school has a catholic cha...</td>\n",
       "      <td>the basilica of the sacred heart at notre dame...</td>\n",
       "      <td>[279, 296]</td>\n",
       "      <td>the main building</td>\n",
       "      <td>[101, 6549, 2135, 1010, 1996, 2082, 2038, 1037...</td>\n",
       "      <td>[101, 1996, 13546, 1997, 1996, 6730, 2540, 201...</td>\n",
       "      <td>[12, 15]</td>\n",
       "    </tr>\n",
       "    <tr>\n",
       "      <th>3</th>\n",
       "      <td>5733be284776f41900661181</td>\n",
       "      <td>architecturally, the school has a catholic cha...</td>\n",
       "      <td>what is the grotto at notre dame?</td>\n",
       "      <td>[381, 420]</td>\n",
       "      <td>a marian place of prayer and reflection</td>\n",
       "      <td>[101, 6549, 2135, 1010, 1996, 2082, 2038, 1037...</td>\n",
       "      <td>[101, 2054, 2003, 1996, 24665, 23052, 2012, 10...</td>\n",
       "      <td>[85, 93]</td>\n",
       "    </tr>\n",
       "    <tr>\n",
       "      <th>4</th>\n",
       "      <td>5733be284776f4190066117e</td>\n",
       "      <td>architecturally, the school has a catholic cha...</td>\n",
       "      <td>what sits on top of the main building at notre...</td>\n",
       "      <td>[92, 126]</td>\n",
       "      <td>a golden statue of the virgin mary</td>\n",
       "      <td>[101, 6549, 2135, 1010, 1996, 2082, 2038, 1037...</td>\n",
       "      <td>[101, 2054, 7719, 2006, 2327, 1997, 1996, 2364...</td>\n",
       "      <td>[20, 28]</td>\n",
       "    </tr>\n",
       "  </tbody>\n",
       "</table>\n",
       "</div>"
      ],
      "text/plain": [
       "                         id  \\\n",
       "0  5733be284776f41900661182   \n",
       "1  5733be284776f4190066117f   \n",
       "2  5733be284776f41900661180   \n",
       "3  5733be284776f41900661181   \n",
       "4  5733be284776f4190066117e   \n",
       "\n",
       "                                             context  \\\n",
       "0  architecturally, the school has a catholic cha...   \n",
       "1  architecturally, the school has a catholic cha...   \n",
       "2  architecturally, the school has a catholic cha...   \n",
       "3  architecturally, the school has a catholic cha...   \n",
       "4  architecturally, the school has a catholic cha...   \n",
       "\n",
       "                                            question       label  \\\n",
       "0  to whom did the virgin mary allegedly appear i...  [515, 541]   \n",
       "1  what is in front of the notre dame main building?  [188, 213]   \n",
       "2  the basilica of the sacred heart at notre dame...  [279, 296]   \n",
       "3                  what is the grotto at notre dame?  [381, 420]   \n",
       "4  what sits on top of the main building at notre...   [92, 126]   \n",
       "\n",
       "                                    answer  \\\n",
       "0               saint bernadette soubirous   \n",
       "1                a copper statue of christ   \n",
       "2                        the main building   \n",
       "3  a marian place of prayer and reflection   \n",
       "4       a golden statue of the virgin mary   \n",
       "\n",
       "                                         context_ids  \\\n",
       "0  [101, 6549, 2135, 1010, 1996, 2082, 2038, 1037...   \n",
       "1  [101, 6549, 2135, 1010, 1996, 2082, 2038, 1037...   \n",
       "2  [101, 6549, 2135, 1010, 1996, 2082, 2038, 1037...   \n",
       "3  [101, 6549, 2135, 1010, 1996, 2082, 2038, 1037...   \n",
       "4  [101, 6549, 2135, 1010, 1996, 2082, 2038, 1037...   \n",
       "\n",
       "                                        question_ids   label_idx  \n",
       "0  [101, 2000, 3183, 2106, 1996, 6261, 2984, 9382...  [114, 122]  \n",
       "1  [101, 2054, 2003, 1999, 2392, 1997, 1996, 1028...    [40, 45]  \n",
       "2  [101, 1996, 13546, 1997, 1996, 6730, 2540, 201...    [12, 15]  \n",
       "3  [101, 2054, 2003, 1996, 24665, 23052, 2012, 10...    [85, 93]  \n",
       "4  [101, 2054, 7719, 2006, 2327, 1997, 1996, 2364...    [20, 28]  "
      ]
     },
     "execution_count": 4,
     "metadata": {},
     "output_type": "execute_result"
    }
   ],
   "source": [
    "train_df.head()"
   ]
  },
  {
   "cell_type": "code",
   "execution_count": 5,
   "id": "be582ba7",
   "metadata": {},
   "outputs": [
    {
     "data": {
      "text/plain": [
       "(18891, 2067)"
      ]
     },
     "execution_count": 5,
     "metadata": {},
     "output_type": "execute_result"
    }
   ],
   "source": [
    "training_data = pd.DataFrame()\n",
    "validation_data = pd.DataFrame()\n",
    "\n",
    "\n",
    "training_data[\"sentence A\"] = train_df[\"context\"]\n",
    "validation_data[\"sentence A\"] = valid_df[\"context\"]\n",
    "\n",
    "training_data[\"sentence B\"] = \"\"\n",
    "validation_data[\"sentence B\"] = \"\"\n",
    "\n",
    "training_data.drop_duplicates(inplace=True)\n",
    "validation_data.drop_duplicates(inplace=True)\n",
    "\n",
    "training_data.index = np.linspace(0,len(training_data)-1,len(training_data),dtype=int)\n",
    "validation_data.index = np.linspace(0,len(validation_data)-1,len(validation_data),dtype=int)\n",
    "\n",
    "len(training_data), len(validation_data)"
   ]
  },
  {
   "cell_type": "code",
   "execution_count": 6,
   "id": "03fd9a75",
   "metadata": {},
   "outputs": [
    {
     "data": {
      "text/html": [
       "<div>\n",
       "<style scoped>\n",
       "    .dataframe tbody tr th:only-of-type {\n",
       "        vertical-align: middle;\n",
       "    }\n",
       "\n",
       "    .dataframe tbody tr th {\n",
       "        vertical-align: top;\n",
       "    }\n",
       "\n",
       "    .dataframe thead th {\n",
       "        text-align: right;\n",
       "    }\n",
       "</style>\n",
       "<table border=\"1\" class=\"dataframe\">\n",
       "  <thead>\n",
       "    <tr style=\"text-align: right;\">\n",
       "      <th></th>\n",
       "      <th>sentence A</th>\n",
       "      <th>sentence B</th>\n",
       "    </tr>\n",
       "  </thead>\n",
       "  <tbody>\n",
       "    <tr>\n",
       "      <th>0</th>\n",
       "      <td>architecturally, the school has a catholic cha...</td>\n",
       "      <td></td>\n",
       "    </tr>\n",
       "    <tr>\n",
       "      <th>1</th>\n",
       "      <td>as at most other universities, notre dame's st...</td>\n",
       "      <td></td>\n",
       "    </tr>\n",
       "    <tr>\n",
       "      <th>2</th>\n",
       "      <td>the university is the major seat of the congre...</td>\n",
       "      <td></td>\n",
       "    </tr>\n",
       "    <tr>\n",
       "      <th>3</th>\n",
       "      <td>the college of engineering was established in ...</td>\n",
       "      <td></td>\n",
       "    </tr>\n",
       "    <tr>\n",
       "      <th>4</th>\n",
       "      <td>all of notre dame's undergraduate students are...</td>\n",
       "      <td></td>\n",
       "    </tr>\n",
       "  </tbody>\n",
       "</table>\n",
       "</div>"
      ],
      "text/plain": [
       "                                          sentence A sentence B\n",
       "0  architecturally, the school has a catholic cha...           \n",
       "1  as at most other universities, notre dame's st...           \n",
       "2  the university is the major seat of the congre...           \n",
       "3  the college of engineering was established in ...           \n",
       "4  all of notre dame's undergraduate students are...           "
      ]
     },
     "execution_count": 6,
     "metadata": {},
     "output_type": "execute_result"
    }
   ],
   "source": [
    "training_data.head()"
   ]
  },
  {
   "cell_type": "code",
   "execution_count": 7,
   "id": "c3d25008",
   "metadata": {},
   "outputs": [],
   "source": [
    "training_data.to_pickle(\"Training_Squad.pkl\")\n",
    "validation_data.to_pickle(\"Validating_Squad.pkl\")"
   ]
  },
  {
   "cell_type": "code",
   "execution_count": 8,
   "id": "761e34ee",
   "metadata": {},
   "outputs": [],
   "source": [
    "training_data = pd.read_pickle('Training_Squad.pkl')\n",
    "validation_data = pd.read_pickle('Validating_Squad.pkl')"
   ]
  },
  {
   "cell_type": "code",
   "execution_count": 9,
   "id": "14404b58",
   "metadata": {},
   "outputs": [
    {
     "data": {
      "text/html": [
       "<div>\n",
       "<style scoped>\n",
       "    .dataframe tbody tr th:only-of-type {\n",
       "        vertical-align: middle;\n",
       "    }\n",
       "\n",
       "    .dataframe tbody tr th {\n",
       "        vertical-align: top;\n",
       "    }\n",
       "\n",
       "    .dataframe thead th {\n",
       "        text-align: right;\n",
       "    }\n",
       "</style>\n",
       "<table border=\"1\" class=\"dataframe\">\n",
       "  <thead>\n",
       "    <tr style=\"text-align: right;\">\n",
       "      <th></th>\n",
       "      <th>sentence A</th>\n",
       "      <th>sentence B</th>\n",
       "    </tr>\n",
       "  </thead>\n",
       "  <tbody>\n",
       "    <tr>\n",
       "      <th>0</th>\n",
       "      <td>architecturally, the school has a catholic cha...</td>\n",
       "      <td></td>\n",
       "    </tr>\n",
       "    <tr>\n",
       "      <th>1</th>\n",
       "      <td>as at most other universities, notre dame's st...</td>\n",
       "      <td></td>\n",
       "    </tr>\n",
       "    <tr>\n",
       "      <th>2</th>\n",
       "      <td>the university is the major seat of the congre...</td>\n",
       "      <td></td>\n",
       "    </tr>\n",
       "    <tr>\n",
       "      <th>3</th>\n",
       "      <td>the college of engineering was established in ...</td>\n",
       "      <td></td>\n",
       "    </tr>\n",
       "    <tr>\n",
       "      <th>4</th>\n",
       "      <td>all of notre dame's undergraduate students are...</td>\n",
       "      <td></td>\n",
       "    </tr>\n",
       "  </tbody>\n",
       "</table>\n",
       "</div>"
      ],
      "text/plain": [
       "                                          sentence A sentence B\n",
       "0  architecturally, the school has a catholic cha...           \n",
       "1  as at most other universities, notre dame's st...           \n",
       "2  the university is the major seat of the congre...           \n",
       "3  the college of engineering was established in ...           \n",
       "4  all of notre dame's undergraduate students are...           "
      ]
     },
     "execution_count": 9,
     "metadata": {},
     "output_type": "execute_result"
    }
   ],
   "source": [
    "training_data.head()"
   ]
  },
  {
   "cell_type": "markdown",
   "id": "f1c24c52",
   "metadata": {},
   "source": [
    "# Data Augmentation"
   ]
  },
  {
   "cell_type": "code",
   "execution_count": 10,
   "id": "67214945",
   "metadata": {},
   "outputs": [
    {
     "data": {
      "text/plain": [
       "4"
      ]
     },
     "execution_count": 10,
     "metadata": {},
     "output_type": "execute_result"
    }
   ],
   "source": [
    "EDA_case = np.random.randint(1,5)\n",
    "EDA_case"
   ]
  },
  {
   "cell_type": "code",
   "execution_count": 11,
   "id": "3b12201f",
   "metadata": {
    "scrolled": true
   },
   "outputs": [
    {
     "data": {
      "text/plain": [
       "(\"as at most other universities, notre dame's students run a number of news media outlets. the nine student-run outlets include three newspapers, both a radio and television station, and several magazines and journals. begun as a one-page journal in september 1876, the scholastic magazine is issued twice monthly and claims to be the oldest continuous collegiate publication in the united states. the other magazine, the juggler, is released twice a year and focuses on student literature and artwork. the dome yearbook is published annually. the newspapers have varying publication interests, with the observer published daily and mainly reporting university and other news, and staffed by students from both notre dame and saint mary's college. unlike scholastic and the dome, the observer is an independent publication and does not have a faculty advisor or any editorial oversight from the university. in 1987, when some students believed that the observer began to show a conservative bias, a liberal newspaper, common sense was published. likewise, in 2003, when other students believed that the paper showed a liberal bias, the conservative paper irish rover went into production. neither paper is published as often as the observer; however, all three are distributed to all students. finally, in spring 2008 an undergraduate journal for political science research, beyond politics, made its debut.\",\n",
       " [\"as at most other universities, notre dame's students run a number of news media outlets.\",\n",
       "  'the nine student-run outlets include three newspapers, both a radio and television station, and several magazines and journals.',\n",
       "  'begun as a one-page journal in september 1876, the scholastic magazine is issued twice monthly and claims to be the oldest continuous collegiate publication in the united states.',\n",
       "  'the other magazine, the juggler, is released twice a year and focuses on student literature and artwork.',\n",
       "  'the dome yearbook is published annually.',\n",
       "  \"the newspapers have varying publication interests, with the observer published daily and mainly reporting university and other news, and staffed by students from both notre dame and saint mary's college.\",\n",
       "  'unlike scholastic and the dome, the observer is an independent publication and does not have a faculty advisor or any editorial oversight from the university.',\n",
       "  'in 1987, when some students believed that the observer began to show a conservative bias, a liberal newspaper, common sense was published.',\n",
       "  'likewise, in 2003, when other students believed that the paper showed a liberal bias, the conservative paper irish rover went into production.',\n",
       "  'neither paper is published as often as the observer; however, all three are distributed to all students.',\n",
       "  'finally, in spring 2008 an undergraduate journal for political science research, beyond politics, made its debut.'])"
      ]
     },
     "execution_count": 11,
     "metadata": {},
     "output_type": "execute_result"
    }
   ],
   "source": [
    "training_data[\"sentence A\"][1],sent_tokenize(training_data[\"sentence A\"][1])"
   ]
  },
  {
   "cell_type": "code",
   "execution_count": 12,
   "id": "893cccd0",
   "metadata": {},
   "outputs": [],
   "source": [
    "n = 4\n",
    "for i in range(len(training_data)):\n",
    "    EDA_cases = random.sample(range(1,5),2)\n",
    "    \n",
    "    aug = max(sent_tokenize(training_data[\"sentence A\"][i]),key=len)\n",
    "    training_data[\"sentence A\"][i] = aug\n",
    "    \n",
    "    aug = eda.Easy_Data_Augmentation(aug,EDA_cases[0],n)\n",
    "    aug = eda.Easy_Data_Augmentation(aug,EDA_cases[1],n)\n",
    "    training_data[\"sentence B\"][i] = aug"
   ]
  },
  {
   "cell_type": "code",
   "execution_count": 13,
   "id": "3077135b",
   "metadata": {},
   "outputs": [],
   "source": [
    "n = 4\n",
    "for i in range(len(validation_data)):\n",
    "    EDA_cases = random.sample(range(1,5),2)\n",
    "    \n",
    "    aug = max(sent_tokenize(validation_data[\"sentence A\"][i]),key=len)\n",
    "    validation_data[\"sentence A\"][i] = aug\n",
    "    \n",
    "    aug = eda.Easy_Data_Augmentation(aug,EDA_cases[0],n)\n",
    "    aug = eda.Easy_Data_Augmentation(aug,EDA_cases[1],n)\n",
    "    validation_data[\"sentence B\"][i] = aug"
   ]
  },
  {
   "cell_type": "code",
   "execution_count": 14,
   "id": "bd1d3d6d",
   "metadata": {},
   "outputs": [
    {
     "data": {
      "text/html": [
       "<div>\n",
       "<style scoped>\n",
       "    .dataframe tbody tr th:only-of-type {\n",
       "        vertical-align: middle;\n",
       "    }\n",
       "\n",
       "    .dataframe tbody tr th {\n",
       "        vertical-align: top;\n",
       "    }\n",
       "\n",
       "    .dataframe thead th {\n",
       "        text-align: right;\n",
       "    }\n",
       "</style>\n",
       "<table border=\"1\" class=\"dataframe\">\n",
       "  <thead>\n",
       "    <tr style=\"text-align: right;\">\n",
       "      <th></th>\n",
       "      <th>sentence A</th>\n",
       "      <th>sentence B</th>\n",
       "    </tr>\n",
       "  </thead>\n",
       "  <tbody>\n",
       "    <tr>\n",
       "      <th>0</th>\n",
       "      <td>it is a replica of the grotto at lourdes, fran...</td>\n",
       "      <td>appeared is a replica of the grotto at lourdes...</td>\n",
       "    </tr>\n",
       "    <tr>\n",
       "      <th>1</th>\n",
       "      <td>the newspapers have varying publication intere...</td>\n",
       "      <td>the newspapers commentator varying publication...</td>\n",
       "    </tr>\n",
       "    <tr>\n",
       "      <th>2</th>\n",
       "      <td>retired priests and brothers reside in fatima ...</td>\n",
       "      <td>retired priests and strike out brothers amp fi...</td>\n",
       "    </tr>\n",
       "    <tr>\n",
       "      <th>3</th>\n",
       "      <td>today the college, housed in the fitzpatrick, ...</td>\n",
       "      <td>today the college, housed study the fitzpatric...</td>\n",
       "    </tr>\n",
       "    <tr>\n",
       "      <th>4</th>\n",
       "      <td>each student is given an academic advisor from...</td>\n",
       "      <td>each student is given an faculty member advise...</td>\n",
       "    </tr>\n",
       "  </tbody>\n",
       "</table>\n",
       "</div>"
      ],
      "text/plain": [
       "                                          sentence A  \\\n",
       "0  it is a replica of the grotto at lourdes, fran...   \n",
       "1  the newspapers have varying publication intere...   \n",
       "2  retired priests and brothers reside in fatima ...   \n",
       "3  today the college, housed in the fitzpatrick, ...   \n",
       "4  each student is given an academic advisor from...   \n",
       "\n",
       "                                          sentence B  \n",
       "0  appeared is a replica of the grotto at lourdes...  \n",
       "1  the newspapers commentator varying publication...  \n",
       "2  retired priests and strike out brothers amp fi...  \n",
       "3  today the college, housed study the fitzpatric...  \n",
       "4  each student is given an faculty member advise...  "
      ]
     },
     "execution_count": 14,
     "metadata": {},
     "output_type": "execute_result"
    }
   ],
   "source": [
    "training_data.head()"
   ]
  },
  {
   "cell_type": "code",
   "execution_count": 15,
   "id": "6b8ccf85",
   "metadata": {},
   "outputs": [
    {
     "data": {
      "text/html": [
       "<div>\n",
       "<style scoped>\n",
       "    .dataframe tbody tr th:only-of-type {\n",
       "        vertical-align: middle;\n",
       "    }\n",
       "\n",
       "    .dataframe tbody tr th {\n",
       "        vertical-align: top;\n",
       "    }\n",
       "\n",
       "    .dataframe thead th {\n",
       "        text-align: right;\n",
       "    }\n",
       "</style>\n",
       "<table border=\"1\" class=\"dataframe\">\n",
       "  <thead>\n",
       "    <tr style=\"text-align: right;\">\n",
       "      <th></th>\n",
       "      <th>sentence A</th>\n",
       "      <th>sentence B</th>\n",
       "    </tr>\n",
       "  </thead>\n",
       "  <tbody>\n",
       "    <tr>\n",
       "      <th>0</th>\n",
       "      <td>as this was the 50th super bowl, the league em...</td>\n",
       "      <td>as this was the 50th super bowl, game league a...</td>\n",
       "    </tr>\n",
       "    <tr>\n",
       "      <th>1</th>\n",
       "      <td>they defeated the arizona cardinals 49–15 in t...</td>\n",
       "      <td>they defeated the arizona cardinals 49–15 in t...</td>\n",
       "    </tr>\n",
       "    <tr>\n",
       "      <th>2</th>\n",
       "      <td>newton was limited by denver's defense, which ...</td>\n",
       "      <td>newton including by denver's defense, which sa...</td>\n",
       "    </tr>\n",
       "    <tr>\n",
       "      <th>3</th>\n",
       "      <td>the super bowl 50 halftime show was headlined ...</td>\n",
       "      <td>the ball bowling ball 50 halftime show headlin...</td>\n",
       "    </tr>\n",
       "    <tr>\n",
       "      <th>4</th>\n",
       "      <td>in early 2012, nfl commissioner roger goodell ...</td>\n",
       "      <td>in early nfl commissioner goodell stated that ...</td>\n",
       "    </tr>\n",
       "  </tbody>\n",
       "</table>\n",
       "</div>"
      ],
      "text/plain": [
       "                                          sentence A  \\\n",
       "0  as this was the 50th super bowl, the league em...   \n",
       "1  they defeated the arizona cardinals 49–15 in t...   \n",
       "2  newton was limited by denver's defense, which ...   \n",
       "3  the super bowl 50 halftime show was headlined ...   \n",
       "4  in early 2012, nfl commissioner roger goodell ...   \n",
       "\n",
       "                                          sentence B  \n",
       "0  as this was the 50th super bowl, game league a...  \n",
       "1  they defeated the arizona cardinals 49–15 in t...  \n",
       "2  newton including by denver's defense, which sa...  \n",
       "3  the ball bowling ball 50 halftime show headlin...  \n",
       "4  in early nfl commissioner goodell stated that ...  "
      ]
     },
     "execution_count": 15,
     "metadata": {},
     "output_type": "execute_result"
    }
   ],
   "source": [
    "validation_data.head()"
   ]
  },
  {
   "cell_type": "code",
   "execution_count": 28,
   "id": "1913bf00",
   "metadata": {},
   "outputs": [
    {
     "data": {
      "text/plain": [
       "('the dominant land plant species of the time were gymnosperms, which are vascular, cone-bearing, non-flowering plants such as conifers that produce seeds without a coating.',\n",
       " 'rife the dominant institute plant species of the time gymnosperms, which cone-bearing, non-flowering plants institute such as institute conifers that produce seeds without a coating.')"
      ]
     },
     "execution_count": 28,
     "metadata": {},
     "output_type": "execute_result"
    }
   ],
   "source": [
    "i = np.random.randint(0,len(training_data))\n",
    "training_data[\"sentence A\"][i],training_data[\"sentence B\"][i]"
   ]
  },
  {
   "cell_type": "code",
   "execution_count": null,
   "id": "e3ba9e1a",
   "metadata": {},
   "outputs": [],
   "source": [
    "training_data.to_pickle(\"Training_Squad.pkl\")\n",
    "validation_data.to_pickle(\"Validating_Squad.pkl\")"
   ]
  },
  {
   "cell_type": "code",
   "execution_count": null,
   "id": "f2f9b3f8",
   "metadata": {},
   "outputs": [],
   "source": [
    "training_data = pd.read_pickle('Training_Squad.pkl')\n",
    "validation_data = pd.read_pickle('Validating_Squad.pkl')"
   ]
  },
  {
   "cell_type": "code",
   "execution_count": null,
   "id": "7c610651",
   "metadata": {},
   "outputs": [],
   "source": []
  },
  {
   "cell_type": "code",
   "execution_count": null,
   "id": "6ce285ca",
   "metadata": {},
   "outputs": [],
   "source": []
  }
 ],
 "metadata": {
  "kernelspec": {
   "display_name": "Python 3 (ipykernel)",
   "language": "python",
   "name": "python3"
  },
  "language_info": {
   "codemirror_mode": {
    "name": "ipython",
    "version": 3
   },
   "file_extension": ".py",
   "mimetype": "text/x-python",
   "name": "python",
   "nbconvert_exporter": "python",
   "pygments_lexer": "ipython3",
   "version": "3.9.12"
  }
 },
 "nbformat": 4,
 "nbformat_minor": 5
}
